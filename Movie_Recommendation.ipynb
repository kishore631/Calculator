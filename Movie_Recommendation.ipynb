{
  "nbformat": 4,
  "nbformat_minor": 0,
  "metadata": {
    "colab": {
      "provenance": [],
      "authorship_tag": "ABX9TyPDCt+1hHhZowHxYdcZQICE",
      "include_colab_link": true
    },
    "kernelspec": {
      "name": "python3",
      "display_name": "Python 3"
    },
    "language_info": {
      "name": "python"
    }
  },
  "cells": [
    {
      "cell_type": "markdown",
      "metadata": {
        "id": "view-in-github",
        "colab_type": "text"
      },
      "source": [
        "<a href=\"https://colab.research.google.com/github/kishore631/Calculator/blob/main/Movie_Recommendation.ipynb\" target=\"_parent\"><img src=\"https://colab.research.google.com/assets/colab-badge.svg\" alt=\"Open In Colab\"/></a>"
      ]
    },
    {
      "cell_type": "markdown",
      "source": [
        "# Movie Recommendation System"
      ],
      "metadata": {
        "id": "68VS-Dtg408P"
      }
    },
    {
      "cell_type": "markdown",
      "source": [
        "**Objective**"
      ],
      "metadata": {
        "id": "mp4ERf3e47nu"
      }
    },
    {
      "cell_type": "markdown",
      "source": [
        "The objective of this project is to build a movie recommendation system that suggests movies to users based on their past ratings and preferences."
      ],
      "metadata": {
        "id": "kr55lPpc5CBC"
      }
    },
    {
      "cell_type": "markdown",
      "source": [
        "**Data Source**"
      ],
      "metadata": {
        "id": "_po5ft2H5ftC"
      }
    },
    {
      "cell_type": "markdown",
      "source": [
        "For this project, we will use the MovieLens dataset, which contains ratings from users on various movies."
      ],
      "metadata": {
        "id": "akakWXnX5oS3"
      }
    },
    {
      "cell_type": "markdown",
      "source": [
        "**Import Library**"
      ],
      "metadata": {
        "id": "xSkDn8_l5v4A"
      }
    },
    {
      "cell_type": "code",
      "source": [
        "import pandas as pd\n",
        "import numpy as np\n",
        "from sklearn.model_selection import train_test_split\n",
        "from sklearn.metrics import mean_squared_error\n",
        "from sklearn.decomposition import NMF"
      ],
      "metadata": {
        "id": "Hqzp66CC5yg_"
      },
      "execution_count": null,
      "outputs": []
    },
    {
      "cell_type": "markdown",
      "source": [
        "**Import Data**"
      ],
      "metadata": {
        "id": "yE2Iug4h7RNy"
      }
    },
    {
      "cell_type": "code",
      "source": [
        "# Load the MovieLens dataset\n",
        "ratings = pd.read_csv('ratings.csv')\n",
        "movies = pd.read_csv('movies.csv')\n",
        "\n",
        "# Merge the ratings and movies datasets\n",
        "data = pd.merge(ratings, movies, on='movieId')"
      ],
      "metadata": {
        "id": "mS4X0ryR7Vqr"
      },
      "execution_count": null,
      "outputs": []
    },
    {
      "cell_type": "markdown",
      "source": [
        "**Describe Data**"
      ],
      "metadata": {
        "id": "HGI2qZSC7iS4"
      }
    },
    {
      "cell_type": "code",
      "source": [
        "# Get the summary statistics of the ratings dataset\n",
        "print(ratings.describe())\n",
        "\n",
        "# Get the summary statistics of the movies dataset\n",
        "print(movies.describe())"
      ],
      "metadata": {
        "colab": {
          "base_uri": "https://localhost:8080/"
        },
        "id": "l9Main8v7mD7",
        "outputId": "df4ce74f-8707-4e02-d0e2-425abdc06bea"
      },
      "execution_count": null,
      "outputs": [
        {
          "output_type": "stream",
          "name": "stdout",
          "text": [
            "              userId        movieId         rating     timestamp\n",
            "count  265252.000000  265252.000000  265251.000000  2.652510e+05\n",
            "mean      955.306460   20845.740198       3.554398  1.206154e+09\n",
            "std       529.492466   38857.357008       1.061050  2.359168e+08\n",
            "min         1.000000       1.000000       0.500000  8.280963e+08\n",
            "25%       538.000000    1100.000000       3.000000  9.851396e+08\n",
            "50%       939.000000    2724.000000       4.000000  1.172227e+09\n",
            "75%      1405.000000    7759.000000       4.000000  1.446108e+09\n",
            "max      1866.000000  208793.000000       5.000000  1.574254e+09\n",
            "             movieId\n",
            "count   62423.000000\n",
            "mean   122220.387646\n",
            "std     63264.744844\n",
            "min         1.000000\n",
            "25%     82146.500000\n",
            "50%    138022.000000\n",
            "75%    173222.000000\n",
            "max    209171.000000\n"
          ]
        }
      ]
    },
    {
      "cell_type": "markdown",
      "source": [
        "**Data Visualization**"
      ],
      "metadata": {
        "id": "9VT6Eq8z7qgV"
      }
    },
    {
      "cell_type": "code",
      "source": [
        "# Plot the distribution of ratings\n",
        "import matplotlib.pyplot as plt\n",
        "plt.hist(ratings['rating'], bins=5)\n",
        "plt.title('Distribution of Ratings')\n",
        "plt.xlabel('Rating')\n",
        "plt.ylabel('Frequency')\n",
        "plt.show()"
      ],
      "metadata": {
        "colab": {
          "base_uri": "https://localhost:8080/",
          "height": 472
        },
        "id": "9FzNuhMK7vy7",
        "outputId": "9c2c1215-8a6a-4a33-97f9-2987811e84d5"
      },
      "execution_count": null,
      "outputs": [
        {
          "output_type": "display_data",
          "data": {
            "text/plain": [
              "<Figure size 640x480 with 1 Axes>"
            ],
            "image/png": "[encoded data removed]"
          },
          "metadata": {}
        }
      ]
    },
    {
      "cell_type": "markdown",
      "source": [
        "**Data Preprocessing**"
      ],
      "metadata": {
        "id": "gGjuR5hS73o_"
      }
    },
    {
      "cell_type": "code",
      "source": [
        "# Convert the ratings to a matrix\n",
        "rating_matrix = ratings.pivot(index='userId', columns='movieId', values='rating')\n",
        "\n",
        "# Replace missing values with 0\n",
        "rating_matrix.fillna(0, inplace=True)"
      ],
      "metadata": {
        "id": "IVNyEzLB75Oi"
      },
      "execution_count": null,
      "outputs": []
    },
    {
      "cell_type": "markdown",
      "source": [
        "**Define Target Variable (y) and Feature Variables (X)**"
      ],
      "metadata": {
        "id": "wmdWgWka78sO"
      }
    },
    {
      "cell_type": "code",
      "source": [
        "# Define the target variable (y) as the ratings\n",
        "y = rating_matrix.values\n",
        "\n",
        "# Define the feature variables (X) as the movie features\n",
        "X = movies.drop(['movieId', 'title'], axis=1).values"
      ],
      "metadata": {
        "id": "ecoq1W3g8AOa"
      },
      "execution_count": null,
      "outputs": []
    },
    {
      "cell_type": "markdown",
      "source": [
        "**Train Test Split bold text**"
      ],
      "metadata": {
        "id": "1b4xJlMc8IAi"
      }
    },
    {
      "cell_type": "code",
      "source": [
        "X = X[:len(y)]"
      ],
      "metadata": {
        "id": "7KGrlMhA9HP5"
      },
      "execution_count": null,
      "outputs": []
    },
    {
      "cell_type": "code",
      "source": [
        "y = y[:len(X)]"
      ],
      "metadata": {
        "id": "1Jglc3M6-qAi"
      },
      "execution_count": null,
      "outputs": []
    },
    {
      "cell_type": "code",
      "source": [
        "X_train, X_test, y_train, y_test = train_test_split(X, y, test_size=0.2, random_state=42)"
      ],
      "metadata": {
        "id": "oiRYJNxR-shz"
      },
      "execution_count": null,
      "outputs": []
    },
    {
      "cell_type": "markdown",
      "source": [
        "**Modeling**"
      ],
      "metadata": {
        "id": "y-hUqGCf9Hsc"
      }
    },
    {
      "cell_type": "code",
      "source": [
        "X_train_list = [item for sublist in X_train_list for item in sublist]"
      ],
      "metadata": {
        "id": "JkT9rmOlAFPQ"
      },
      "execution_count": null,
      "outputs": []
    },
    {
      "cell_type": "code",
      "source": [
        "X_train_encoded = vectorizer.fit_transform(X_train_list)"
      ],
      "metadata": {
        "id": "urIQ-J3hAFVY"
      },
      "execution_count": null,
      "outputs": []
    },
    {
      "cell_type": "code",
      "source": [
        "X_train_list = [' '.join(map(str, sublist)) for sublist in X_train_list]"
      ],
      "metadata": {
        "id": "b3wQNa19AFXv"
      },
      "execution_count": null,
      "outputs": []
    },
    {
      "cell_type": "code",
      "source": [
        "X_train_list = [x for x in X_train_list if x.strip() != '']"
      ],
      "metadata": {
        "id": "BTPC5KTaAFaX"
      },
      "execution_count": null,
      "outputs": []
    },
    {
      "cell_type": "code",
      "source": [
        "import nltk\n",
        "nltk.download('punkt')"
      ],
      "metadata": {
        "colab": {
          "base_uri": "https://localhost:8080/"
        },
        "id": "-0IkQyUyAFcx",
        "outputId": "12715030-07fb-4e73-c1ae-1c662d085054"
      },
      "execution_count": null,
      "outputs": [
        {
          "output_type": "stream",
          "name": "stderr",
          "text": [
            "[nltk_data] Downloading package punkt to /root/nltk_data...\n",
            "[nltk_data]   Unzipping tokenizers/punkt.zip.\n"
          ]
        },
        {
          "output_type": "execute_result",
          "data": {
            "text/plain": [
              "True"
            ]
          },
          "metadata": {},
          "execution_count": 39
        }
      ]
    },
    {
      "cell_type": "code",
      "source": [
        "from nltk.tokenize import word_tokenize\n",
        "X_train_list = [' '.join(word_tokenize(x)) for x in X_train_list]"
      ],
      "metadata": {
        "id": "4gYMT_d1AFfH"
      },
      "execution_count": null,
      "outputs": []
    },
    {
      "cell_type": "code",
      "source": [
        "import nltk\n",
        "from nltk.tokenize import word_tokenize\n",
        "\n",
        "X_train_list = [' '.join(word_tokenize(x)) for x in X_train_list]"
      ],
      "metadata": {
        "id": "lLWIIzwLAFid"
      },
      "execution_count": null,
      "outputs": []
    },
    {
      "cell_type": "markdown",
      "source": [
        "**Prediction**"
      ],
      "metadata": {
        "id": "VXgn_9z39PBa"
      }
    },
    {
      "cell_type": "code",
      "source": [
        "# Define a function to make predictions for a given user\n",
        "def predict_user_ratings(user_id, num_recommendations=10):\n",
        "    # Get the user's ratings\n",
        "    user_ratings = rating_matrix.loc[user_id]\n",
        "\n",
        "    # Get the predicted ratings for the user\n",
        "    predicted_ratings = nmf.transform(user_ratings)\n",
        "\n",
        "    # Get the top N recommended movies\n",
        "    recommended_movies = predicted_ratings.argsort()[:num_recommendations]\n",
        "\n",
        "    # Return the recommended movies\n",
        "    return recommended_movies"
      ],
      "metadata": {
        "id": "5saUG_Gt9SKA"
      },
      "execution_count": null,
      "outputs": []
    },
    {
      "cell_type": "markdown",
      "source": [
        "**Explanation**"
      ],
      "metadata": {
        "id": "R-tDMYDK9WCY"
      }
    },
    {
      "cell_type": "markdown",
      "source": [
        "This movie recommendation system uses Non-negative Matrix Factorization (NMF) to reduce the dimensionality of the user-item interaction matrix and improve the performance of the recommendation model. The system takes in user ratings and movie features as input, and outputs predicted ratings for each user-item pair. The predicted ratings can be used to recommend movies to users based on their past ratings and preferences.\n",
        "\n",
        "Note that this is just an example code, and you may need to modify it to fit your specific use case. Additionally, you may want to experiment with different algorithms and techniques to improve the performance of the recommendation system."
      ],
      "metadata": {
        "id": "A386WCkd9Y_i"
      }
    }
  ]
}